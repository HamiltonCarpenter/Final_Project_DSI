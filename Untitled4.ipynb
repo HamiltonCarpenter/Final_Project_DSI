{
 "cells": [
  {
   "cell_type": "code",
   "execution_count": 1,
   "metadata": {},
   "outputs": [],
   "source": [
    "from pyspark.sql import SparkSession\n",
    "import pyspark as ps    # for the pyspark suite\n",
    "import warnings         # for displaying warning\n",
    "import os               # for environ variables in Part 3\n",
    "\n",
    "\n",
    "import pandas as pd\n",
    "\n",
    "import numpy as np\n",
    "\n",
    "from nltk.corpus import stopwords\n",
    "from nltk.tokenize import RegexpTokenizer\n",
    "from nltk.stem.porter import PorterStemmer\n",
    "\n",
    "from sklearn.feature_extraction.text import TfidfVectorizer, CountVectorizer\n",
    "from sklearn.decomposition import NMF as NMF_sklearn\n",
    "import pickle\n",
    "from nmf import NMF\n",
    "import pymongo\n",
    "from pymongo import MongoClient\n",
    "\n",
    "spark = SparkSession \\\n",
    "    .builder \\\n",
    "    .appName(\"Python Spark SQL basic example\") \\\n",
    "    .config(\"spark.some.config.option\", \"some-value\") \\\n",
    "    .getOrCreate()\n",
    "\n",
    "sc = spark.sparkContext\n",
    "\n",
    "def build_text_vectorizer(contents, use_tfidf=True, use_stemmer=False, max_features=None):\n",
    "    '''\n",
    "    Build and return a **callable** for transforming text documents to vectors,\n",
    "    as well as a vocabulary to map document-vector indices to words from the\n",
    "    corpus. The vectorizer will be trained from the text documents in the\n",
    "    `contents` argument. If `use_tfidf` is True, then the vectorizer will use\n",
    "    the Tf-Idf algorithm, otherwise a Bag-of-Words vectorizer will be used.\n",
    "    The text will be tokenized by words, and each word will be stemmed iff\n",
    "    `use_stemmer` is True. If `max_features` is not None, then the vocabulary\n",
    "    will be limited to the `max_features` most common words in the corpus.\n",
    "    '''\n",
    "    \n",
    "    Vectorizer = TfidfVectorizer if use_tfidf else CountVectorizer\n",
    "    tokenizer = RegexpTokenizer(r\"[\\w']+\")\n",
    "    stem = PorterStemmer().stem if use_stemmer else (lambda x: x)\n",
    "    stop_set = set(stopwords.words('english'))\n",
    "\n",
    "    # Closure over the tokenizer et al.\n",
    "    def tokenize(text):\n",
    "        tokens = tokenizer.tokenize(text)\n",
    "        stems = [stem(token) for token in tokens if token not in stop_set]\n",
    "        return stems\n",
    "\n",
    "    vectorizer_model = Vectorizer(tokenizer=tokenize, max_features=max_features)\n",
    "    vectorizer_model.fit(contents)\n",
    "    vocabulary = np.array(vectorizer_model.get_feature_names())\n",
    "\n",
    "    # Closure over the vectorizer_model's transform method.\n",
    "    def vectorizer(X):\n",
    "        return vectorizer_model.transform(X).toarray()\n",
    "\n",
    "    return vectorizer, vocabulary\n",
    "\n",
    "\n",
    "def softmax(v, temperature=1.0):\n",
    "    '''\n",
    "    A heuristic to convert arbitrary positive values into probabilities.\n",
    "    See: https://en.wikipedia.org/wiki/Softmax_function\n",
    "    '''\n",
    "    expv = np.exp(v / temperature)\n",
    "    s = np.sum(expv)\n",
    "    return expv / s\n",
    "\n",
    "\n",
    "def hand_label_topics(H, vocabulary):\n",
    "    '''\n",
    "    Print the most influential words of each latent topic, and prompt the user\n",
    "    to label each topic. The user should use their humanness to figure out what\n",
    "    each latent topic is capturing.\n",
    "    '''\n",
    "    hand_labels = []\n",
    "    for i, row in enumerate(H):\n",
    "        top_five = np.argsort(row)[::-1][:20]\n",
    "        print('topic', i)\n",
    "        print('-->', ' '.join(vocabulary[top_five]))\n",
    "        label = input('please label this topic: ')\n",
    "        hand_labels.append(label)\n",
    "        print()\n",
    "    return hand_labels\n",
    "\n",
    "\n",
    "def analyze_article(article_index, contents, web_urls, W, hand_labels):\n",
    "    '''\n",
    "    Print an analysis of a single NYT articles, including the article text\n",
    "    and a summary of which topics it represents. The topics are identified\n",
    "    via the hand-labels which were assigned by the user.\n",
    "    '''\n",
    "    #print(web_urls[article_index])\n",
    "    #print(contents[article_index])\n",
    "    probs = softmax(W[article_index], temperature=0.01)\n",
    "    \n",
    "    top_prob = 0\n",
    "    top_cat = 0\n",
    "    i = 0\n",
    "    for prob, label in zip(probs, hand_labels):\n",
    "        if prob > top_prob:\n",
    "            top_prob = prob\n",
    "            top_cat = i\n",
    "        #print('--> {:.2f}% {}'.format(prob * 100, label))\n",
    "        i = i + 1\n",
    "    return top_cat, probs\n",
    "    #print()\n",
    "    #    gotta assign all of these to the correct bin and then tfidf them \n"
   ]
  },
  {
   "cell_type": "code",
   "execution_count": 3,
   "metadata": {},
   "outputs": [],
   "source": [
    "g_df1 = spark.read.csv('data/all-the-news/articles1.csv')\n",
    "g_df2 = spark.read.csv('data/all-the-news/articles2.csv')\n",
    "g_df3 = spark.read.csv('data/all-the-news/articles3.csv')\n",
    "merge1 = g_df1.union(g_df2)\n",
    "full_dataframe = merge1.union(g_df3)\n",
    "#g_arr1 = g_df1.values\n",
    "#g_arr2 = g_df2.values\n",
    "#g_arr3 = g_df3.values\n",
    "\n"
   ]
  },
  {
   "cell_type": "code",
   "execution_count": null,
   "metadata": {},
   "outputs": [],
   "source": []
  },
  {
   "cell_type": "code",
   "execution_count": null,
   "metadata": {},
   "outputs": [],
   "source": [
    "##############################################################################\n",
    "#fix\n",
    "#g_df1 = g_df_full #pd.read_csv('data/all-the-news/articles1.csv')\n",
    "\n",
    "g_df = g_df_full #pd.read_pickle(\"data/articles.pkl\")\n",
    "g_contents = g_df.content\n",
    "g_web_urls = g_df.url\n",
    "\n",
    "# Build our text-to-vector vectorizer, then vectorize our corpus.\n",
    "g_vectorizer, g_vocabulary = build_text_vectorizer(g_contents,\n",
    "                             use_tfidf=True,\n",
    "                             use_stemmer=False,\n",
    "                             max_features=5000)\n",
    "g_X = g_vectorizer(g_contents)\n",
    "\n",
    "# We'd like to see consistent results, so set the seed.\n",
    "np.random.seed(12345)\n",
    "\n",
    "g_rand_articles = list(range(len(g_df_full)))\n",
    "#for i in rand_articles:\n",
    "#        analyze_article(i, contents, web_urls, W, hand_labels)\n",
    "\n",
    "# Do it all again, this time using scikit-learn.\n",
    "g_nmf = NMF_sklearn(n_components=7, max_iter=100, random_state=12345, alpha=0.0)\n",
    "g_W = g_nmf.fit_transform(g_X)\n",
    "g_H = g_nmf.components_\n",
    "print('reconstruction error:', g_nmf.reconstruction_err_)\n",
    "g_hand_labels = ['Garbage', 'GOP', 'Intl Politics', 'Econ', 'Dems', 'Crime', 'Election'] #hand_label_topics(g_H, g_vocabulary)\n",
    "\n",
    "\n",
    "\n",
    "        \n",
    "#pickle.dump(H,open('nyt_clusters_H.p','wb'))\n",
    "#pickle.dump(W,open('nyt_clusters_W.p','wb'))\n"
   ]
  },
  {
   "cell_type": "code",
   "execution_count": 15,
   "metadata": {},
   "outputs": [
    {
     "data": {
      "text/plain": [
       "DataFrame[_c0: string, _c1: string, _c2: string, _c3: string, _c4: string, _c5: string, _c6: string, _c7: string, _c8: string, _c9: string]"
      ]
     },
     "execution_count": 15,
     "metadata": {},
     "output_type": "execute_result"
    }
   ],
   "source": [
    "g_df1"
   ]
  },
  {
   "cell_type": "code",
   "execution_count": 9,
   "metadata": {},
   "outputs": [
    {
     "data": {
      "text/plain": [
       "<bound method DataFrame.count of DataFrame[_c0: string, _c1: string, _c2: string, _c3: string, _c4: string, _c5: string, _c6: string, _c7: string, _c8: string, _c9: string]>"
      ]
     },
     "execution_count": 9,
     "metadata": {},
     "output_type": "execute_result"
    }
   ],
   "source": [
    "full_dataframe.count9"
   ]
  },
  {
   "cell_type": "code",
   "execution_count": 16,
   "metadata": {},
   "outputs": [
    {
     "name": "stdout",
     "output_type": "stream",
     "text": [
      "185189\n"
     ]
    }
   ],
   "source": [
    "print(full_dataframe.count())"
   ]
  },
  {
   "cell_type": "code",
   "execution_count": 17,
   "metadata": {},
   "outputs": [
    {
     "name": "stdout",
     "output_type": "stream",
     "text": [
      "+----+-----+--------------------+--------------+--------------------+----------+------+-----+----+--------------------+\n",
      "| _c0|  _c1|                 _c2|           _c3|                 _c4|       _c5|   _c6|  _c7| _c8|                 _c9|\n",
      "+----+-----+--------------------+--------------+--------------------+----------+------+-----+----+--------------------+\n",
      "|null|   id|               title|   publication|              author|      date|  year|month| url|             content|\n",
      "|   0|17283|House Republicans...|New York Times|          Carl Hulse|2016-12-31|2016.0| 12.0|null|WASHINGTON  —   C...|\n",
      "|   1|17284|Rift Between Offi...|New York Times|Benjamin Mueller ...|2017-06-19|2017.0|  6.0|null|After the bullet ...|\n",
      "|   2|17285|Tyrus Wong, ‘Bamb...|New York Times|        Margalit Fox|2017-01-06|2017.0|  1.0|null|When Walt Disney’...|\n",
      "|   3|17286|Among Deaths in 2...|New York Times|    William McDonald|2017-04-10|2017.0|  4.0|null|Death may be the ...|\n",
      "|   4|17287|Kim Jong-un Says ...|New York Times|       Choe Sang-Hun|2017-01-02|2017.0|  1.0|null|SEOUL, South Kore...|\n",
      "|   5|17288|Sick With a Cold,...|New York Times|         Sewell Chan|2017-01-02|2017.0|  1.0|null|LONDON  —   Queen...|\n",
      "|   6|17289|Taiwan’s Presiden...|New York Times| Javier C. Hernández|2017-01-02|2017.0|  1.0|null|BEIJING  —   Pres...|\n",
      "|   7|17290|After ‘The Bigges...|New York Times|         Gina Kolata|2017-02-08|2017.0|  2.0|null|Danny Cahill stoo...|\n",
      "|   8|17291|First, a Mixtape....|New York Times|    Katherine Rosman|2016-12-31|2016.0| 12.0|null|Just how   is Hil...|\n",
      "|   9|17292|Calling on Angels...|New York Times|         Andy Newman|2016-12-31|2016.0| 12.0|null|Angels are everyw...|\n",
      "|  10|17293|Weak Federal Powe...|New York Times|       Justin Gillis|2017-01-03|2017.0|  1.0|null|With Donald J. Tr...|\n",
      "|  11|17294|Can Carbon Captur...|New York Times|       John Schwartz|2017-01-05|2017.0|  1.0|null|THOMPSONS, Tex.  ...|\n",
      "|  12|17295|Mar-a-Lago, the F...|New York Times|     Maggie Haberman|2017-01-02|2017.0|  1.0|null|WEST PALM BEACH, ...|\n",
      "|  13|17296|How to form healt...|New York Times|      Charles Duhigg|2017-01-02|2017.0|  1.0|null|This article is p...|\n",
      "|  14|17297|Turning Your Vaca...|New York Times|Stephanie Rosenbloom|2017-04-14|2017.0|  4.0|null|It’s the season f...|\n",
      "|  15|17298|As Second Avenue ...|New York Times| Emma G. Fitzsimmons|2017-01-02|2017.0|  1.0|null|Finally. The Seco...|\n",
      "|  16|17300|Dylann Roof Himse...|New York Times|Kevin Sack and Al...|2017-01-02|2017.0|  1.0|null|  pages into the ...|\n",
      "|  17|17301|Modi’s Cash Ban B...|New York Times|         Geeta Anand|2017-01-02|2017.0|  1.0|null|MUMBAI, India  — ...|\n",
      "|  18|17302|Suicide Bombing i...|New York Times|The Associated Press|2017-01-03|2017.0|  1.0|null|BAGHDAD  —   A su...|\n",
      "+----+-----+--------------------+--------------+--------------------+----------+------+-----+----+--------------------+\n",
      "only showing top 20 rows\n",
      "\n"
     ]
    }
   ],
   "source": [
    "full_dataframe.show()"
   ]
  },
  {
   "cell_type": "code",
   "execution_count": 18,
   "metadata": {},
   "outputs": [
    {
     "name": "stdout",
     "output_type": "stream",
     "text": [
      "50005\n",
      "79477\n",
      "55707\n"
     ]
    }
   ],
   "source": [
    "print(g_df1.count())\n",
    "print(g_df2.count())\n",
    "print(g_df3.count())"
   ]
  },
  {
   "cell_type": "code",
   "execution_count": 6,
   "metadata": {},
   "outputs": [],
   "source": [
    "pandas_df2 = g_df2.toPandas()"
   ]
  },
  {
   "cell_type": "code",
   "execution_count": 7,
   "metadata": {},
   "outputs": [
    {
     "data": {
      "text/plain": [
       "(79477, 10)"
      ]
     },
     "execution_count": 7,
     "metadata": {},
     "output_type": "execute_result"
    }
   ],
   "source": [
    "pandas_df2.shape"
   ]
  },
  {
   "cell_type": "code",
   "execution_count": 12,
   "metadata": {},
   "outputs": [],
   "source": [
    "outlets=['New York Post','Atlantic','National Review','Talking Points Memo','Guardian','Buzzfeed News','Fox News']"
   ]
  },
  {
   "cell_type": "code",
   "execution_count": 17,
   "metadata": {},
   "outputs": [
    {
     "ename": "ValueError",
     "evalue": "The truth value of a Series is ambiguous. Use a.empty, a.bool(), a.item(), a.any() or a.all().",
     "output_type": "error",
     "traceback": [
      "\u001b[0;31m---------------------------------------------------------------------------\u001b[0m",
      "\u001b[0;31mValueError\u001b[0m                                Traceback (most recent call last)",
      "\u001b[0;32m<ipython-input-17-6993f0dfb0fc>\u001b[0m in \u001b[0;36m<module>\u001b[0;34m()\u001b[0m\n\u001b[0;32m----> 1\u001b[0;31m \u001b[0mpandas_df2\u001b[0m\u001b[0;34m[\u001b[0m\u001b[0;34m(\u001b[0m\u001b[0mpandas_df2\u001b[0m\u001b[0;34m[\u001b[0m\u001b[0;34m'_c3'\u001b[0m\u001b[0;34m]\u001b[0m \u001b[0;32min\u001b[0m \u001b[0moutlets\u001b[0m\u001b[0;34m)\u001b[0m\u001b[0;34m]\u001b[0m\u001b[0;34m\u001b[0m\u001b[0m\n\u001b[0m",
      "\u001b[0;32m~/anaconda3/lib/python3.6/site-packages/pandas/core/generic.py\u001b[0m in \u001b[0;36m__nonzero__\u001b[0;34m(self)\u001b[0m\n\u001b[1;32m   1574\u001b[0m         raise ValueError(\"The truth value of a {0} is ambiguous. \"\n\u001b[1;32m   1575\u001b[0m                          \u001b[0;34m\"Use a.empty, a.bool(), a.item(), a.any() or a.all().\"\u001b[0m\u001b[0;34m\u001b[0m\u001b[0m\n\u001b[0;32m-> 1576\u001b[0;31m                          .format(self.__class__.__name__))\n\u001b[0m\u001b[1;32m   1577\u001b[0m \u001b[0;34m\u001b[0m\u001b[0m\n\u001b[1;32m   1578\u001b[0m     \u001b[0m__bool__\u001b[0m \u001b[0;34m=\u001b[0m \u001b[0m__nonzero__\u001b[0m\u001b[0;34m\u001b[0m\u001b[0m\n",
      "\u001b[0;31mValueError\u001b[0m: The truth value of a Series is ambiguous. Use a.empty, a.bool(), a.item(), a.any() or a.all()."
     ]
    }
   ],
   "source": [
    "#pandas_df2[(pandas_df2['_c3'] in outlets)]"
   ]
  },
  {
   "cell_type": "code",
   "execution_count": 21,
   "metadata": {},
   "outputs": [],
   "source": [
    "#pandas_df2[((pandas_df2['_c3'] !='New York Post'))]\n",
    "      #     and (pandas_df2['_c3'] !='Atlantic') \n",
    "       #    and (pandas_df2['_c3'] !='National Review') \n",
    "        #   and (pandas_df2['_c3'] !='Talking Points Memo') \n",
    "        #   and (pandas_df2['_c3'] !='Guardian') \n",
    "        #   and (pandas_df2['_c3'] !='Buzzfeed News') \n",
    "        #   and (pandas_df2['_c3'] !='Fox News'))]"
   ]
  },
  {
   "cell_type": "code",
   "execution_count": 11,
   "metadata": {},
   "outputs": [
    {
     "data": {
      "text/plain": [
       "45005"
      ]
     },
     "execution_count": 11,
     "metadata": {},
     "output_type": "execute_result"
    }
   ],
   "source": [
    "17493+6900+6203+5212+4845+4352"
   ]
  },
  {
   "cell_type": "code",
   "execution_count": 23,
   "metadata": {},
   "outputs": [
    {
     "data": {
      "text/plain": [
       "New York Post                                                                                                                                                                                                                                                                                                                                          17493\n",
       "Atlantic                                                                                                                                                                                                                                                                                                                                                6900\n",
       "National Review                                                                                                                                                                                                                                                                                                                                         6203\n",
       "Talking Points Memo                                                                                                                                                                                                                                                                                                                                     5212\n",
       "Guardian                                                                                                                                                                                                                                                                                                                                                4873\n",
       "Buzzfeed News                                                                                                                                                                                                                                                                                                                                           4845\n",
       "Fox News                                                                                                                                                                                                                                                                                                                                                4352\n",
       " however                                                                                                                                                                                                                                                                                                                                                  73\n",
       " 2017                                                                                                                                                                                                                                                                                                                                                     53\n",
       " 2016                                                                                                                                                                                                                                                                                                                                                     42\n",
       " though                                                                                                                                                                                                                                                                                                                                                   33\n",
       " the debates would fall to the wayside. Archive Team believes that by duplicated condemned data                                                                                                                                                                                                                                                           24\n",
       " Florida                                                                                                                                                                                                                                                                                                                                                  18\n",
       "” he said                                                                                                                                                                                                                                                                                                                                                 17\n",
       " of course                                                                                                                                                                                                                                                                                                                                                16\n",
       " broadcast                                                                                                                                                                                                                                                                                                                                                16\n",
       " for example                                                                                                                                                                                                                                                                                                                                              15\n",
       " \"                                                                                                                                                                                                                                                                                                                                                        15\n",
       " and                                                                                                                                                                                                                                                                                                                                                      14\n",
       " 24                                                                                                                                                                                                                                                                                                                                                       14\n",
       " Texas                                                                                                                                                                                                                                                                                                                                                    13\n",
       " rewritten or redistributed.\"                                                                                                                                                                                                                                                                                                                             13\n",
       " 000                                                                                                                                                                                                                                                                                                                                                      12\n",
       " but                                                                                                                                                                                                                                                                                                                                                      11\n",
       " saying                                                                                                                                                                                                                                                                                                                                                   11\n",
       " after all                                                                                                                                                                                                                                                                                                                                                10\n",
       " 20                                                                                                                                                                                                                                                                                                                                                       10\n",
       " 27                                                                                                                                                                                                                                                                                                                                                        9\n",
       " 26                                                                                                                                                                                                                                                                                                                                                        9\n",
       " he said                                                                                                                                                                                                                                                                                                                                                   8\n",
       "                                                                                                                                                                                                                                                                                                                                                       ...  \n",
       " and Tokyo keep in close consultation with the relevant authorities in those countries. A problem: As Evelyn Cheng points out at CNBC                                                                                                                                                                                                                      1\n",
       " the head of the Ukrainian service. Mr. Nordlinger expands the piece in his Impromptus this week. You don’t hear much about the Voice of America                                                                                                                                                                                                           1\n",
       " Florida’s Hickory Hammock Baptist Church and host of WEBY’s “Freedom Friday Radio. ” In the ensuing weeks                                                                                                                                                                                                                                                 1\n",
       " wrapped in gleaming                                                                                                                                                                                                                                                                                                                                       1\n",
       " though. The process creates the illusion of good government rather than the reality of good government. It started in the Third World in the late 1980s as a way to help poor people with no democratic experience navigate the new world that emerged when Cold War dictatorships ended. The first project was in 1989 in a poor region of Brazil        1\n",
       "” one sheriff said                                                                                                                                                                                                                                                                                                                                         1\n",
       " and started hurling vitriol at a number of men inside the restaurant                                                                                                                                                                                                                                                                                      1\n",
       " most of the threats we’ve faced                                                                                                                                                                                                                                                                                                                           1\n",
       " earning up to $47                                                                                                                                                                                                                                                                                                                                         1\n",
       " Jacob deGrom                                                                                                                                                                                                                                                                                                                                              1\n",
       " Trump spent practically nothing on TV advertisements during the primaries                                                                                                                                                                                                                                                                                 1\n",
       " $50                                                                                                                                                                                                                                                                                                                                                       1\n",
       " China lost its position in the forefront of human achievements and fell behind                                                                                                                                                                                                                                                                            1\n",
       "” Cavuto said. ”If this escalates like it did back when Barack Obama first assumed the presidency                                                                                                                                                                                                                                                          1\n",
       " a conservative imprint of Simon & Schuster                                                                                                                                                                                                                                                                                                                1\n",
       " the FDA pointed to a 2012 court decision that requires the government block shipments of sodium thiopental                                                                                                                                                                                                                                                1\n",
       " when an astronaut was just doing her literal job and then a man came along to explain it to her. ’] @gary4205 I dunno                                                                                                                                                                                                                                     1\n",
       " a   prototype took off vertically before zooming off like a traditional plane. Potential competitors to Lilium Jet include much bigger players such as Airbus                                                                                                                                                                                             1\n",
       " citing the threats as proof that the rise of Donald Trump had created an “  atmosphere. ” Mayor de Blasio has taken to pointing to rising NYPD   statistics as more evidence. Yet                                                                                                                                                                         1\n",
       " which has a range of 328 feet                                                                                                                                                                                                                                                                                                                             1\n",
       " as well as the profound loss she felt after her father                                                                                                                                                                                                                                                                                                    1\n",
       " the family operates Bann on West 50th Street. The Spring Street lease was negotiated by Eastern Consolidated senior director James Famularo for landlord Corigin Real Estate Group and by Eastern’s Ravi Idnani for the restaurant.  Famularo called the “very unique”   space “a chef’s dream come true                                                  1\n",
       " who temporarily suspended the President’s immigration executive order                                                                                                                                                                                                                                                                                     1\n",
       " Joan Baez                                                                                                                                                                                                                                                                                                                                                 1\n",
       " the Cubs win. Today has been a day of deserved exaltation and no little amount of amazement for the supporters of   Donald Trump.   And whether you agree with them or not                                                                                                                                                                                1\n",
       "  Totally made up facts by sleazebag political operatives                                                                                                                                                                                                                                                                                                  1\n",
       " and study as men. Transgender women are women  —   they live                                                                                                                                                                                                                                                                                              1\n",
       "” Garza told Fox 13. Before leaving the restaurant                                                                                                                                                                                                                                                                                                         1\n",
       " bipartisan appointed commission to investigate foreign interference in this year’s election given the evidence that Russia was behind hacking throughout the course of the year. “I think it would be congressional malpractice if we did not look into this                                                                                              1\n",
       " who comes to the Trump White House from the Trump International Hotel down the street. Harleth is currently “director of rooms” at Trump DC. Here’s the announcement just out from the White House   …     First Lady Melania Trump Announces New Chief Usher                                                                                             1\n",
       "Name: _c3, Length: 26880, dtype: int64"
      ]
     },
     "execution_count": 23,
     "metadata": {},
     "output_type": "execute_result"
    }
   ],
   "source": [
    "pandas_df2['_c3'].value_counts()"
   ]
  },
  {
   "cell_type": "code",
   "execution_count": null,
   "metadata": {},
   "outputs": [],
   "source": []
  },
  {
   "cell_type": "code",
   "execution_count": null,
   "metadata": {},
   "outputs": [],
   "source": []
  },
  {
   "cell_type": "code",
   "execution_count": null,
   "metadata": {},
   "outputs": [],
   "source": []
  },
  {
   "cell_type": "code",
   "execution_count": 19,
   "metadata": {},
   "outputs": [
    {
     "name": "stdout",
     "output_type": "stream",
     "text": [
      "185189\n"
     ]
    }
   ],
   "source": [
    "print(g_df1.count()+g_df2.count()+g_df3.count())"
   ]
  },
  {
   "cell_type": "code",
   "execution_count": 25,
   "metadata": {},
   "outputs": [],
   "source": [
    "#i = 0 \n",
    "#for row in full_dataframe.rdd.collect():#.take(185189): #.rdd.collect():\n",
    " #   row._c9\n",
    "  #  i= i+1"
   ]
  },
  {
   "cell_type": "code",
   "execution_count": 24,
   "metadata": {},
   "outputs": [],
   "source": [
    "#full_dataframe.rdd.collect()#"
   ]
  },
  {
   "cell_type": "code",
   "execution_count": null,
   "metadata": {},
   "outputs": [],
   "source": []
  }
 ],
 "metadata": {
  "kernelspec": {
   "display_name": "Python 3",
   "language": "python",
   "name": "python3"
  },
  "language_info": {
   "codemirror_mode": {
    "name": "ipython",
    "version": 3
   },
   "file_extension": ".py",
   "mimetype": "text/x-python",
   "name": "python",
   "nbconvert_exporter": "python",
   "pygments_lexer": "ipython3",
   "version": "3.6.4"
  }
 },
 "nbformat": 4,
 "nbformat_minor": 2
}
