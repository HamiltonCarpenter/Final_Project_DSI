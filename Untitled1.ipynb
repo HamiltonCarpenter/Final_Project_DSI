{
 "cells": [
  {
   "cell_type": "code",
   "execution_count": 5,
   "metadata": {},
   "outputs": [
    {
     "name": "stderr",
     "output_type": "stream",
     "text": [
      "/Users/hamiltoncarpenter/anaconda3/lib/python3.6/site-packages/ipykernel_launcher.py:7: DeprecationWarning: update is deprecated. Use replace_one, update_one or update_many instead.\n",
      "  import sys\n"
     ]
    }
   ],
   "source": [
    "from pymongo import MongoClient\n",
    "cl = MongoClient()\n",
    "coll = cl[\"local\"][\"test2\"]\n",
    "\n",
    "data = [{\"_id\" : 1, \"foo\" : \"HELLO\"}, {\"_id\" : 2, \"Blah\" : \"Bloh\"}]\n",
    "for d in data:\n",
    "    coll.update({'_id':d['_id']}, d, True)"
   ]
  },
  {
   "cell_type": "code",
   "execution_count": null,
   "metadata": {},
   "outputs": [],
   "source": []
  }
 ],
 "metadata": {
  "kernelspec": {
   "display_name": "Python 3",
   "language": "python",
   "name": "python3"
  },
  "language_info": {
   "codemirror_mode": {
    "name": "ipython",
    "version": 3
   },
   "file_extension": ".py",
   "mimetype": "text/x-python",
   "name": "python",
   "nbconvert_exporter": "python",
   "pygments_lexer": "ipython3",
   "version": "3.6.4"
  }
 },
 "nbformat": 4,
 "nbformat_minor": 2
}
